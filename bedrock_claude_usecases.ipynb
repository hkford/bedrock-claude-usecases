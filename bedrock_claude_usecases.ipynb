{
 "cells": [
  {
   "cell_type": "markdown",
   "id": "77bc9d9b-5153-46c6-bf19-76628c419d7f",
   "metadata": {},
   "source": [
    "# 準備"
   ]
  },
  {
   "cell_type": "markdown",
   "id": "27dc3bf9-c12f-4a96-a264-60ad077114e3",
   "metadata": {},
   "source": [
    "## ライブラリインポート"
   ]
  },
  {
   "cell_type": "code",
   "execution_count": null,
   "id": "6d14f76e-f801-49e5-926b-febe0d52d2b3",
   "metadata": {},
   "outputs": [],
   "source": [
    "import json\n",
    "import base64\n",
    "import os\n",
    "from PIL import Image\n",
    "import boto3\n",
    "import botocore\n",
    "\n",
    "boto3_bedrock = boto3.client(service_name='bedrock-runtime',region_name='us-east-1')\n"
   ]
  },
  {
   "cell_type": "markdown",
   "id": "592041f2-c546-40ab-9ef9-b2a5928b09c8",
   "metadata": {},
   "source": [
    "## util 関数"
   ]
  },
  {
   "cell_type": "markdown",
   "id": "1e8b1915-b6af-4783-8989-9d8ad7e0913b",
   "metadata": {},
   "source": [
    "### 入力画像のバリデーション\n",
    "[Anthropic Claude の inference parameter](https://docs.aws.amazon.com/bedrock/latest/userguide/model-parameters-anthropic-claude-messages.html#model-parameters-anthropic-claude-messages-request-response) では以下の制約がある\n",
    "\n",
    "> data – (required) The base64 encoded image bytes for the image. The maximum image size is 3.75MB. The maximum height and width of an image is 8000 pixels. \n",
    "\n",
    "この制約を満たさないと以下のエラーが出る\n",
    "\n",
    "> ValidationException: An error occurred (ValidationException) when calling the InvokeModel operation: messages.0.content.0.image.source.base64.data: Image format image/jpeg not supported\n",
    "\n",
    "したがって base64 encode した画像サイズと最大の height/width が 8000 ピクセルより小さいかバリデーションする必要がある"
   ]
  },
  {
   "cell_type": "code",
   "execution_count": null,
   "id": "a243d698-4e7a-4c29-921c-18174882ae8a",
   "metadata": {},
   "outputs": [],
   "source": [
    "def encode_image_for_claude(image_path):\n",
    "    \"\"\"\n",
    "    Claude3 への入力用に画像を base64 エンコードする\n",
    "\n",
    "    Anthropic Claude の inference parameter には画像の高さ、幅、サイズの制限があります。\n",
    "    制限を満たさない場合は ValueError を返します。制限を満たせば base64 でエンコードされた画像データを返します。\n",
    "\n",
    "    Args:\n",
    "        image_path (str): 入力画像への相対パス\n",
    "\n",
    "    Returns:\n",
    "        str: base64 でエンコードされた画像データ\n",
    "\n",
    "    Raises:\n",
    "        ValueError: 入力画像の高さ、幅、サイズの制限を超過した場合\n",
    "\n",
    "    Examples:\n",
    "        >>> encode_image_for_claude(\"path_to_image\")\n",
    "        \"base64_encoded_image\"\n",
    "    \"\"\"\n",
    "    file_size_bytes = os.path.getsize(image_path)\n",
    "    file_size_mb = file_size_bytes / 1000 / 1000\n",
    "    if file_size_mb > 3.75:\n",
    "        raise ValueError(\"Image size exceeded 3.75 MB quota\")\n",
    "\n",
    "    width, height = Image.open(image_path).size\n",
    "    if width > 8000:\n",
    "        raise ValueError(\"Image width exceeded 8000 pixel quota\")\n",
    "    if height > 8000:\n",
    "        raise ValueError(\"Image height exceeded 8000 pixel quota\")\n",
    "\n",
    "    with open(image_path, \"rb\") as image_file:\n",
    "        image_bytes = image_file.read()\n",
    "    encoded_image = base64.b64encode(image_bytes).decode(\"utf-8\")\n",
    "    return encoded_image"
   ]
  },
  {
   "cell_type": "code",
   "execution_count": null,
   "id": "87d083d4-8ab7-42ec-930a-d8c9ca8ea36d",
   "metadata": {},
   "outputs": [],
   "source": [
    "def retrieve_content_type_from_image(image_path):\n",
    "    \"\"\"\n",
    "    画像の種類(png か jpeg か)を判別する\n",
    "\n",
    "    Anthropic Claude の inference parameter には media_type が引数にある\n",
    "    この media_type を画像のバイト列から判定する\n",
    "    判定方法はhttps://xaro.hatenablog.jp/entry/2017/05/17/103000 を参照\n",
    "\n",
    "    Args:\n",
    "        image_path (str): 入力画像への相対パス\n",
    "\n",
    "    Returns:\n",
    "        str: media_type. \"image/png\" または \"image/jpeg\"\n",
    "\n",
    "    Raises:\n",
    "        ValueError: png でも jpeg でもない場合\n",
    "\n",
    "    Examples:\n",
    "        >>> retrieve_content_type_from_image(\"path_to_image.png\")\n",
    "        \"image/png\"\n",
    "    \"\"\"\n",
    "    with open(image_path, \"rb\") as image_file:\n",
    "        image_bytes = image_file.read()\n",
    "\n",
    "    if image_bytes.startswith(b\"\\x89PNG\\r\\n\\x1a\\n\"):\n",
    "        return \"image/png\"\n",
    "    elif image_bytes.startswith(b\"\\xff\\xd8\"):\n",
    "        return \"image/jpeg\"\n",
    "    else:\n",
    "        raise ValueError(\"Image is not png nor jpeg\")"
   ]
  },
  {
   "cell_type": "markdown",
   "id": "0b4cec00-bd24-4ebc-8dd9-30704e56223a",
   "metadata": {},
   "source": [
    "### 一つの画像を入力とするプロンプト"
   ]
  },
  {
   "cell_type": "code",
   "execution_count": null,
   "id": "7d998d44-ccf0-4130-89d5-dfbc0fe9f18c",
   "metadata": {},
   "outputs": [],
   "source": [
    "def invoke_claude_with_image(prompt_image_path,prompt_text):\n",
    "    # Claude3 Haiku を使用する\n",
    "    modelId = 'anthropic.claude-3-sonnet-20240229-v1:0'\n",
    "    contentType = 'application/json'\n",
    "    accept = 'application/json'\n",
    "    outputText = \"\\n\"\n",
    "    try:\n",
    "        media_type = retrieve_content_type_from_image(prompt_image_path)\n",
    "    except ValueError as e:\n",
    "        print(e)\n",
    "        return None    \n",
    "    try:\n",
    "        encoded_image = encode_image_for_claude(prompt_image_path)\n",
    "    except ValueError as e:\n",
    "        print(e)\n",
    "        return None\n",
    "    body = json.dumps(\n",
    "        {\n",
    "            \"anthropic_version\": \"bedrock-2023-05-31\",\n",
    "            \"max_tokens\": 2000,\n",
    "            \"messages\": [\n",
    "                {\n",
    "                    \"role\": \"user\",\n",
    "                    \"content\": [\n",
    "                        {\n",
    "                            \"type\": \"image\",\n",
    "                            \"source\": {\n",
    "                                \"type\": \"base64\",\n",
    "                                \"media_type\": media_type,\n",
    "                                \"data\": encoded_image,\n",
    "                            },\n",
    "                        },\n",
    "                        {\"type\": \"text\", \"text\": prompt_text},\n",
    "                    ],\n",
    "                }\n",
    "            ],\n",
    "        }\n",
    "    )\n",
    "    try:\n",
    "        response = boto3_bedrock.invoke_model(body=body, modelId=modelId,contentType=contentType,accept=accept)\n",
    "        response_body = json.loads(response.get('body').read())\n",
    "        output_text = response_body.get('content')[0].get('text')\n",
    "        return output_text\n",
    "\n",
    "    except botocore.exceptions.ClientError as error:\n",
    "\n",
    "        if error.response['Error']['Code'] == 'AccessDeniedException':\n",
    "               print(f\"\\x1b[41m{error.response['Error']['Message']}\\\n",
    "                    \\nTo troubeshoot this issue please refer to the following resources.\\\n",
    "                     \\nhttps://docs.aws.amazon.com/IAM/latest/UserGuide/troubleshoot_access-denied.html\\\n",
    "                     \\nhttps://docs.aws.amazon.com/bedrock/latest/userguide/security-iam.html\\x1b[0m\\n\")\n",
    "\n",
    "        else:\n",
    "            raise error"
   ]
  }
 ],
 "metadata": {
  "kernelspec": {
   "display_name": "conda_python3",
   "language": "python",
   "name": "conda_python3"
  },
  "language_info": {
   "codemirror_mode": {
    "name": "ipython",
    "version": 3
   },
   "file_extension": ".py",
   "mimetype": "text/x-python",
   "name": "python",
   "nbconvert_exporter": "python",
   "pygments_lexer": "ipython3",
   "version": "3.10.13"
  }
 },
 "nbformat": 4,
 "nbformat_minor": 5
}
