{
 "cells": [
  {
   "cell_type": "markdown",
   "id": "77bc9d9b-5153-46c6-bf19-76628c419d7f",
   "metadata": {},
   "source": [
    "# 準備"
   ]
  },
  {
   "cell_type": "markdown",
   "id": "27dc3bf9-c12f-4a96-a264-60ad077114e3",
   "metadata": {},
   "source": [
    "## ライブラリインポート"
   ]
  },
  {
   "cell_type": "code",
   "execution_count": null,
   "id": "6d14f76e-f801-49e5-926b-febe0d52d2b3",
   "metadata": {},
   "outputs": [],
   "source": [
    "import json\n",
    "import base64\n",
    "import os\n",
    "from PIL import Image\n",
    "import boto3\n",
    "import botocore\n",
    "\n",
    "boto3_bedrock = boto3.client(service_name='bedrock-runtime',region_name='us-east-1')\n"
   ]
  },
  {
   "cell_type": "markdown",
   "id": "592041f2-c546-40ab-9ef9-b2a5928b09c8",
   "metadata": {},
   "source": [
    "## util 関数"
   ]
  },
  {
   "cell_type": "markdown",
   "id": "1e8b1915-b6af-4783-8989-9d8ad7e0913b",
   "metadata": {},
   "source": [
    "### 入力画像のバリデーション\n",
    "[Anthropic Claude の inference parameter](https://docs.aws.amazon.com/bedrock/latest/userguide/model-parameters-anthropic-claude-messages.html#model-parameters-anthropic-claude-messages-request-response) では以下の制約がある\n",
    "\n",
    "> data – (required) The base64 encoded image bytes for the image. The maximum image size is 3.75MB. The maximum height and width of an image is 8000 pixels. \n",
    "\n",
    "この制約を満たさないと以下のエラーが出る\n",
    "\n",
    "> ValidationException: An error occurred (ValidationException) when calling the InvokeModel operation: messages.0.content.0.image.source.base64.data: Image format image/jpeg not supported\n",
    "\n",
    "したがって base64 encode した画像サイズと最大の height/width が 8000 ピクセルより小さいかバリデーションする必要がある"
   ]
  },
  {
   "cell_type": "code",
   "execution_count": null,
   "id": "a243d698-4e7a-4c29-921c-18174882ae8a",
   "metadata": {},
   "outputs": [],
   "source": [
    "def is_image_valid(filepath):\n",
    "    \"\"\"Claude3 への入力に画像が有効か検査する\n",
    "\n",
    "    Anthropic Claude の inference parameter の制約を満たすかチェックする\n",
    "\n",
    "    Args:\n",
    "        filepath(string): 入力画像への相対パス\n",
    "\n",
    "    Returns:\n",
    "        bool: valid なら True, invalid なら False\n",
    "\n",
    "    Examples:\n",
    "\n",
    "        関数の使い方\n",
    "\n",
    "        >>> is_image_valid(\"path_to_image\")\n",
    "        True\n",
    "\n",
    "    \"\"\"\n",
    "    file_size_bytes = os.path.getsize(filepath)\n",
    "    file_size_mb = file_size_bytes/1000/1000\n",
    "    if file_size_mb > 3.75:\n",
    "        return False\n",
    "    width, height = Image.open(filepath).size\n",
    "    if (width > 8000) or (height > 8000):\n",
    "        return False\n",
    "    return True"
   ]
  },
  {
   "cell_type": "markdown",
   "id": "0b4cec00-bd24-4ebc-8dd9-30704e56223a",
   "metadata": {},
   "source": [
    "### 一つの画像を入力とするプロンプト"
   ]
  },
  {
   "cell_type": "code",
   "execution_count": null,
   "id": "7d998d44-ccf0-4130-89d5-dfbc0fe9f18c",
   "metadata": {},
   "outputs": [],
   "source": [
    "def invoke_claude_with_image(prompt_image_path,prompt_text):\n",
    "    # Claude3 Haiku を使用する\n",
    "    modelId = 'anthropic.claude-3-sonnet-20240229-v1:0'\n",
    "    contentType = 'application/json'\n",
    "    accept = 'application/json'\n",
    "    outputText = \"\\n\"\n",
    "    if not is_image_valid(prompt_image_path):\n",
    "        raise ValueError(\"input image invalid\")\n",
    "    with open(prompt_image_path, \"rb\") as image_file:\n",
    "        image_bytes = image_file.read()\n",
    "    encoded_image = base64.b64encode(image_bytes).decode(\"utf-8\")\n",
    "    body = json.dumps(\n",
    "        {\n",
    "            \"anthropic_version\": \"bedrock-2023-05-31\",\n",
    "            \"max_tokens\": 2000,\n",
    "            \"messages\": [\n",
    "                {\n",
    "                    \"role\": \"user\",\n",
    "                    \"content\": [\n",
    "                        {\n",
    "                            \"type\": \"image\",\n",
    "                            \"source\": {\n",
    "                                \"type\": \"base64\",\n",
    "                                \"media_type\": \"image/jpeg\",\n",
    "                                \"data\": encoded_image,\n",
    "                            },\n",
    "                        },\n",
    "                        {\"type\": \"text\", \"text\": prompt_text},\n",
    "                    ],\n",
    "                }\n",
    "            ],\n",
    "        }\n",
    "    )\n",
    "    try:\n",
    "        response = boto3_bedrock.invoke_model(body=body, modelId=modelId,contentType=contentType,accept=accept)\n",
    "        response_body = json.loads(response.get('body').read())\n",
    "        output_text = response_body.get('content')[0].get('text')\n",
    "        return output_text\n",
    "\n",
    "    except botocore.exceptions.ClientError as error:\n",
    "\n",
    "        if error.response['Error']['Code'] == 'AccessDeniedException':\n",
    "               print(f\"\\x1b[41m{error.response['Error']['Message']}\\\n",
    "                    \\nTo troubeshoot this issue please refer to the following resources.\\\n",
    "                     \\nhttps://docs.aws.amazon.com/IAM/latest/UserGuide/troubleshoot_access-denied.html\\\n",
    "                     \\nhttps://docs.aws.amazon.com/bedrock/latest/userguide/security-iam.html\\x1b[0m\\n\")\n",
    "\n",
    "        else:\n",
    "            raise error\n"
   ]
  }
 ],
 "metadata": {
  "kernelspec": {
   "display_name": "conda_python3",
   "language": "python",
   "name": "conda_python3"
  },
  "language_info": {
   "codemirror_mode": {
    "name": "ipython",
    "version": 3
   },
   "file_extension": ".py",
   "mimetype": "text/x-python",
   "name": "python",
   "nbconvert_exporter": "python",
   "pygments_lexer": "ipython3",
   "version": "3.10.13"
  }
 },
 "nbformat": 4,
 "nbformat_minor": 5
}
